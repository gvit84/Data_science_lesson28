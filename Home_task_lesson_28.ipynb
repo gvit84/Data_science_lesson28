{
 "cells": [
  {
   "cell_type": "markdown",
   "id": "f36eb96a",
   "metadata": {},
   "source": [
    "**Task_1**"
   ]
  },
  {
   "cell_type": "markdown",
   "id": "6d3eaf98",
   "metadata": {},
   "source": [
    "Знайдемо вибіркову середню $x_в$:\n",
    "\n",
    "$x_в = \\frac{1}{n}Ʃn_ix_i = \\frac{2×1 + 3×2 + 10×4 + 3×6 + 2×7}{2 + 3 + 10 + 3 + 2} = \\frac{80}{20} = 4$"
   ]
  },
  {
   "cell_type": "code",
   "execution_count": 3,
   "id": "574f104c",
   "metadata": {
    "scrolled": true
   },
   "outputs": [
    {
     "data": {
      "text/plain": [
       "4.0"
      ]
     },
     "execution_count": 3,
     "metadata": {},
     "output_type": "execute_result"
    }
   ],
   "source": [
    "(2*1 + 3*2 + 10*4 + 3*6 + 2*7)/(2 + 3 + 10 + 3 + 2)"
   ]
  },
  {
   "cell_type": "markdown",
   "id": "4ff147a0",
   "metadata": {},
   "source": [
    "Далі знаходимо вибіркову дисперсію $D_в$: \n",
    "\n",
    "$D_в = \\frac{1}{n}Ʃn_i(x_i - x_в)^2 = \\frac{2(1-4)^2 + 3(2-4)^2 + 10(4-4)^2 + 3(6-4)^2 + 2(7-4)^2}{20} = \\frac{60}{20} = 3 $"
   ]
  },
  {
   "cell_type": "code",
   "execution_count": 4,
   "id": "d410c247",
   "metadata": {},
   "outputs": [
    {
     "data": {
      "text/plain": [
       "3.0"
      ]
     },
     "execution_count": 4,
     "metadata": {},
     "output_type": "execute_result"
    }
   ],
   "source": [
    "(2*(1-4)**2 + 3*(2-4)**2 + 10*(4-4)**2 + 3*(6-4)**2 + 2*(7-4)**2) / 20"
   ]
  },
  {
   "cell_type": "markdown",
   "id": "82987340",
   "metadata": {},
   "source": [
    "Далі знаходимо виправлене середнє квадратичне відхилення S:\n",
    "\n",
    "$S^2 = \\frac{n}{n-1}D_в = \\frac{20}{19} × 3 = 3.16$"
   ]
  },
  {
   "cell_type": "code",
   "execution_count": 5,
   "id": "dc1089ca",
   "metadata": {},
   "outputs": [
    {
     "data": {
      "text/plain": [
       "3.1578947368421053"
      ]
     },
     "execution_count": 5,
     "metadata": {},
     "output_type": "execute_result"
    }
   ],
   "source": [
    "20 / (20 - 1) * 3"
   ]
  },
  {
   "cell_type": "markdown",
   "id": "b2fb39f6",
   "metadata": {},
   "source": [
    "$S = \\sqrt{3.16} = 1.78$"
   ]
  },
  {
   "cell_type": "code",
   "execution_count": 6,
   "id": "596ab6af",
   "metadata": {},
   "outputs": [
    {
     "data": {
      "text/plain": [
       "1.7776388834631178"
      ]
     },
     "execution_count": 6,
     "metadata": {},
     "output_type": "execute_result"
    }
   ],
   "source": [
    "3.16 ** 0.5"
   ]
  },
  {
   "cell_type": "markdown",
   "id": "cf1f4d56",
   "metadata": {},
   "source": [
    "Із таблиці значень $q_y = q(y, n)$:\n",
    "\n",
    "$q_y = 0.37$\n",
    "\n"
   ]
  },
  {
   "cell_type": "markdown",
   "id": "f593ce22",
   "metadata": {},
   "source": [
    "Оскільки $q < 1$, то довірчий інтервал для оцінки середнього квадратичного відхилення знаходимо за наступною формулою:\n",
    "\n",
    "\n",
    "$s(1-q) < σ < s(1+q) = 1.78(1 - 0.37) < σ < 1.78(1 + 0.37) = 1.12 < σ < 2.44 $"
   ]
  },
  {
   "cell_type": "code",
   "execution_count": 25,
   "id": "08918c57",
   "metadata": {},
   "outputs": [
    {
     "data": {
      "text/plain": [
       "'1.1214 < σ < 2.4386'"
      ]
     },
     "execution_count": 25,
     "metadata": {},
     "output_type": "execute_result"
    }
   ],
   "source": [
    "f\"{1.78 * (1-0.37)} < σ < {1.78 * (1 + 0.37)}\""
   ]
  },
  {
   "cell_type": "code",
   "execution_count": null,
   "id": "edcf96e3",
   "metadata": {},
   "outputs": [],
   "source": []
  },
  {
   "cell_type": "markdown",
   "id": "08fb934d",
   "metadata": {},
   "source": [
    "**Task_2**"
   ]
  },
  {
   "cell_type": "markdown",
   "id": "6f6fb123",
   "metadata": {},
   "source": [
    "Для оцінки ймовірності настання події А використаємо довірчий інтервал:\n",
    "\n",
    "$p_1 < p < p_2$"
   ]
  },
  {
   "cell_type": "markdown",
   "id": "0668ccc6",
   "metadata": {},
   "source": [
    "Знайдемо значення $t$ - аргумент функції Лапласа, для якого $Ф(t) = \\frac{y}{2}$:\n",
    "\n",
    "$Ф(t) = \\frac{0.95}{2} = 0.475$\n",
    "\n",
    "Із таблиці Лапласа знаходимо параметр $t$:\n",
    "\n",
    "$t = 1.96$\n",
    "\n"
   ]
  },
  {
   "cell_type": "markdown",
   "id": "51249e1a",
   "metadata": {},
   "source": [
    "$p_1 = \\frac{1}{t^2 + n}(m + \\frac{t^2}{2} - t(\\sqrt{\\frac{m(n - m)}{n} + \\frac{t^2}{4}}) = \\frac{1}{103.84}(40) + \\frac{1.96^2}{2} - 1.96\\sqrt{\\frac{40(100 - 40}{100} + \\frac{1.96^2}{4}} = 0.31$"
   ]
  },
  {
   "cell_type": "code",
   "execution_count": 21,
   "id": "0cb9c39f",
   "metadata": {},
   "outputs": [],
   "source": [
    "m = 40\n",
    "n = 100\n",
    "t = 1.96\n",
    "p1 = (1 / (t ** 2 + n)) * (m + (t ** 2 / 2) - t * (((m * (n - m)) / n) + ((t ** 2) / 4)) ** 0.5)\n",
    "p2 = (1 / (t ** 2 + n)) * (m + (t ** 2 / 2) + t * (((m * (n - m)) / n) + ((t ** 2) / 4)) ** 0.5)"
   ]
  },
  {
   "cell_type": "code",
   "execution_count": 19,
   "id": "c541073b",
   "metadata": {},
   "outputs": [
    {
     "data": {
      "text/plain": [
       "0.3093997461136028"
      ]
     },
     "execution_count": 19,
     "metadata": {},
     "output_type": "execute_result"
    }
   ],
   "source": [
    "p1"
   ]
  },
  {
   "cell_type": "markdown",
   "id": "8a126073",
   "metadata": {},
   "source": [
    "$p_2 = \\frac{1}{t^2 + n}(m + \\frac{t^2}{2} + t(\\sqrt{\\frac{m(n - m)}{n} + \\frac{t^2}{4}}) = \\frac{1}{103.84}(40) + \\frac{1.96^2}{2} + 1.96\\sqrt{\\frac{40(100 - 40}{100} + \\frac{1.96^2}{4}} = 0.5$"
   ]
  },
  {
   "cell_type": "code",
   "execution_count": 22,
   "id": "02dff769",
   "metadata": {},
   "outputs": [
    {
     "data": {
      "text/plain": [
       "0.4979992153815975"
      ]
     },
     "execution_count": 22,
     "metadata": {},
     "output_type": "execute_result"
    }
   ],
   "source": [
    "p2"
   ]
  },
  {
   "cell_type": "code",
   "execution_count": 26,
   "id": "504967fa",
   "metadata": {},
   "outputs": [
    {
     "data": {
      "text/plain": [
       "'0.3093997461136028 < p  < 0.4979992153815975'"
      ]
     },
     "execution_count": 26,
     "metadata": {},
     "output_type": "execute_result"
    }
   ],
   "source": [
    "f\"{p1} < p  < {p2}\""
   ]
  },
  {
   "cell_type": "markdown",
   "id": "8ca0488e",
   "metadata": {},
   "source": [
    "**Отже:**\n",
    "\n",
    "$0.31 < p < 0.50$"
   ]
  },
  {
   "cell_type": "code",
   "execution_count": null,
   "id": "c4852a01",
   "metadata": {},
   "outputs": [],
   "source": []
  },
  {
   "cell_type": "markdown",
   "id": "1e945019",
   "metadata": {},
   "source": [
    "**Task_3**"
   ]
  },
  {
   "cell_type": "markdown",
   "id": "a3aa62a7",
   "metadata": {},
   "source": [
    "Мінімальний об'єм вибірки ми можемо знайти за формулою:\n",
    "\n",
    "$n = \\frac{t^2 σ^2}{δ^2}$"
   ]
  },
  {
   "cell_type": "markdown",
   "id": "90d0274a",
   "metadata": {},
   "source": [
    "Знайдемо значення $t$ - аргумент функції Лапласа, для якого $Ф(t) = \\frac{y}{2}$:\n",
    "\n",
    "$Ф(t) = \\frac{0.99}{2} = 0.495$\n",
    "\n",
    "Із таблиці Лапласа знаходимо параметр $t$:\n",
    "\n",
    "$t = 2.58$"
   ]
  },
  {
   "cell_type": "markdown",
   "id": "3d00ce74",
   "metadata": {},
   "source": [
    "$n = \\frac{t^2 σ^2}{δ^2} = \\frac{2.58^2 × 3^2}{0.6^2} = 166.41$"
   ]
  },
  {
   "cell_type": "code",
   "execution_count": 27,
   "id": "1a587783",
   "metadata": {},
   "outputs": [
    {
     "data": {
      "text/plain": [
       "166.41000000000003"
      ]
     },
     "execution_count": 27,
     "metadata": {},
     "output_type": "execute_result"
    }
   ],
   "source": [
    "(2.58 ** 2 * 3 ** 2) / 0.6 ** 2"
   ]
  },
  {
   "cell_type": "code",
   "execution_count": null,
   "id": "ea62634e",
   "metadata": {},
   "outputs": [],
   "source": []
  }
 ],
 "metadata": {
  "kernelspec": {
   "display_name": "Python 3 (ipykernel)",
   "language": "python",
   "name": "python3"
  },
  "language_info": {
   "codemirror_mode": {
    "name": "ipython",
    "version": 3
   },
   "file_extension": ".py",
   "mimetype": "text/x-python",
   "name": "python",
   "nbconvert_exporter": "python",
   "pygments_lexer": "ipython3",
   "version": "3.9.13"
  }
 },
 "nbformat": 4,
 "nbformat_minor": 5
}
